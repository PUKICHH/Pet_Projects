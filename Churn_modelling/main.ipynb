{
 "cells": [
  {
   "cell_type": "code",
   "execution_count": 3,
   "id": "4e4bff55",
   "metadata": {},
   "outputs": [
    {
     "name": "stdout",
     "output_type": "stream",
     "text": [
      "(10000, 14)\n",
      "   RowNumber  CustomerId   Surname  CreditScore Geography  Gender  Age  \\\n",
      "0          1    15634602  Hargrave          619    France  Female   42   \n",
      "1          2    15647311      Hill          608     Spain  Female   41   \n",
      "2          3    15619304      Onio          502    France  Female   42   \n",
      "3          4    15701354      Boni          699    France  Female   39   \n",
      "4          5    15737888  Mitchell          850     Spain  Female   43   \n",
      "\n",
      "   Tenure    Balance  NumOfProducts  HasCrCard  IsActiveMember  \\\n",
      "0       2       0.00              1          1               1   \n",
      "1       1   83807.86              1          0               1   \n",
      "2       8  159660.80              3          1               0   \n",
      "3       1       0.00              2          0               0   \n",
      "4       2  125510.82              1          1               1   \n",
      "\n",
      "   EstimatedSalary  Exited  \n",
      "0        101348.88       1  \n",
      "1        112542.58       0  \n",
      "2        113931.57       1  \n",
      "3         93826.63       0  \n",
      "4         79084.10       0  \n",
      "<class 'pandas.core.frame.DataFrame'>\n",
      "RangeIndex: 10000 entries, 0 to 9999\n",
      "Data columns (total 14 columns):\n",
      " #   Column           Non-Null Count  Dtype  \n",
      "---  ------           --------------  -----  \n",
      " 0   RowNumber        10000 non-null  int64  \n",
      " 1   CustomerId       10000 non-null  int64  \n",
      " 2   Surname          10000 non-null  object \n",
      " 3   CreditScore      10000 non-null  int64  \n",
      " 4   Geography        10000 non-null  object \n",
      " 5   Gender           10000 non-null  object \n",
      " 6   Age              10000 non-null  int64  \n",
      " 7   Tenure           10000 non-null  int64  \n",
      " 8   Balance          10000 non-null  float64\n",
      " 9   NumOfProducts    10000 non-null  int64  \n",
      " 10  HasCrCard        10000 non-null  int64  \n",
      " 11  IsActiveMember   10000 non-null  int64  \n",
      " 12  EstimatedSalary  10000 non-null  float64\n",
      " 13  Exited           10000 non-null  int64  \n",
      "dtypes: float64(2), int64(9), object(3)\n",
      "memory usage: 1.1+ MB\n",
      "None\n"
     ]
    }
   ],
   "source": [
    "import pandas as pd\n",
    "import matplotlib.pyplot as plt\n",
    "import seaborn as sns\n",
    "\n",
    "sns.set_style(\"whitegrid\")\n",
    "sns.set_palette(\"Set2\")\n",
    "pd.set_option(\"display.max_columns\", None)\n",
    "\n",
    "df = pd.read_csv(\"Churn_Modelling.csv\")\n",
    "\n",
    "print(df.shape)\n",
    "print(df.head())\n",
    "print(df.info())\n"
   ]
  },
  {
   "cell_type": "code",
   "execution_count": 6,
   "id": "a2f36d4e",
   "metadata": {},
   "outputs": [
    {
     "name": "stdout",
     "output_type": "stream",
     "text": [
      "Exited\n",
      "0    79.63\n",
      "1    20.37\n",
      "Name: proportion, dtype: float64\n"
     ]
    },
    {
     "data": {
      "image/png": "[encoded data removed]",
      "text/plain": [
       "<Figure size 640x480 with 1 Axes>"
      ]
     },
     "metadata": {},
     "output_type": "display_data"
    }
   ],
   "source": [
    "class_balance = df['Exited'].value_counts(normalize=True) * 100\n",
    "print(class_balance)\n",
    "\n",
    "sns.countplot(data=df, x='Exited')\n",
    "plt.title(\"Баланс классов\")\n",
    "plt.show()\n",
    "# 0 - остались, 1 - ушли"
   ]
  },
  {
   "cell_type": "code",
   "execution_count": 10,
   "id": "9b8a1edc",
   "metadata": {},
   "outputs": [
    {
     "name": "stdout",
     "output_type": "stream",
     "text": [
      "AgeGroup\n",
      "18-30     7.502569\n",
      "30-40    12.087171\n",
      "40-50    33.965517\n",
      "50-60    56.210790\n",
      "60+      24.784483\n",
      "Name: Exited, dtype: float64\n",
      "Gender\n",
      "Female    25.071539\n",
      "Male      16.455928\n",
      "Name: Exited, dtype: float64\n",
      "Geography\n",
      "France     16.154767\n",
      "Germany    32.443204\n",
      "Spain      16.673395\n",
      "Name: Exited, dtype: float64\n",
      "Exited\n",
      "0    653.0\n",
      "1    646.0\n",
      "Name: CreditScore, dtype: float64\n",
      "Exited\n",
      "0     92072.68\n",
      "1    109349.29\n",
      "Name: Balance, dtype: float64\n",
      "Exited\n",
      "0     99645.04\n",
      "1    102460.84\n",
      "Name: EstimatedSalary, dtype: float64\n",
      "Exited\n",
      "0    5.0\n",
      "1    5.0\n",
      "Name: Tenure, dtype: float64\n",
      "NumOfProducts\n",
      "1     27.714398\n",
      "2      7.581699\n",
      "3     82.706767\n",
      "4    100.000000\n",
      "Name: Exited, dtype: float64\n",
      "IsActiveMember\n",
      "0    26.850897\n",
      "1    14.269074\n",
      "Name: Exited, dtype: float64\n",
      "HasCrCard\n",
      "0    20.814941\n",
      "1    20.184266\n",
      "Name: Exited, dtype: float64\n"
     ]
    },
    {
     "name": "stderr",
     "output_type": "stream",
     "text": [
      "C:\\Users\\User\\AppData\\Local\\Temp\\ipykernel_14120\\2942576390.py:6: FutureWarning: The default of observed=False is deprecated and will be changed to True in a future version of pandas. Pass observed=False to retain current behavior or observed=True to adopt the future default and silence this warning.\n",
      "  print(df.groupby(\"AgeGroup\")['Exited'].mean() * 100)\n"
     ]
    }
   ],
   "source": [
    "# Возрастные группы\n",
    "df['AgeGroup'] = pd.cut(df['Age'], bins=[18,30,40,50,60,100], \n",
    "                        labels=['18-30','30-40','40-50','50-60','60+'])\n",
    "\n",
    "# Отток по возрасту\n",
    "print(df.groupby(\"AgeGroup\")['Exited'].mean() * 100)\n",
    "\n",
    "# Пол\n",
    "print(df.groupby(\"Gender\")['Exited'].mean() * 100)\n",
    "\n",
    "# География\n",
    "print(df.groupby(\"Geography\")['Exited'].mean() * 100)\n",
    "\n",
    "# Кредитный рейтинг\n",
    "print(df.groupby(\"Exited\")[\"CreditScore\"].median())\n",
    "\n",
    "# Баланс\n",
    "print(df.groupby(\"Exited\")[\"Balance\"].median())\n",
    "\n",
    "# Зарплата\n",
    "print(df.groupby(\"Exited\")[\"EstimatedSalary\"].median())\n",
    "\n",
    "# Стаж\n",
    "print(df.groupby(\"Exited\")[\"Tenure\"].median())\n",
    "\n",
    "# Количество продуктов\n",
    "print(df.groupby(\"NumOfProducts\")['Exited'].mean() * 100)\n",
    "\n",
    "# Активность\n",
    "print(df.groupby(\"IsActiveMember\")['Exited'].mean() * 100)\n",
    "\n",
    "# Кредитная карта\n",
    "print(df.groupby(\"HasCrCard\")['Exited'].mean() * 100)\n",
    "\n"
   ]
  },
  {
   "cell_type": "markdown",
   "id": "6a852749",
   "metadata": {},
   "source": [
    "### Демографические факторы\n",
    "\n",
    "- **Возраст:** вероятность ухода растёт с возрастом, пик — 40–50 лет.  \n",
    "- **Пол:** женщины уходят чаще, чем мужчины.  \n",
    "- **География:** клиенты из Германии уходят значительно чаще, чем из Франции и Испании.\n"
   ]
  },
  {
   "cell_type": "markdown",
   "id": "dc7d75f4",
   "metadata": {},
   "source": [
    "### Финансовые факторы\n",
    "\n",
    "- **Кредитный рейтинг:** слабая связь с оттоком.  \n",
    "- **Баланс:** у клиентов с нулевым балансом вероятность ухода ниже.  \n",
    "- **Зарплата:** сильной зависимости нет.\n"
   ]
  },
  {
   "cell_type": "markdown",
   "id": "d708540b",
   "metadata": {},
   "source": [
    "### Поведенческие факторы\n",
    "\n",
    "- **Стаж:** не оказывает заметного влияния.  \n",
    "- **Количество продуктов:** клиенты с 1 продуктом чаще уходят, с 2 — реже, с 3–4 — практически не уходят.  \n",
    "- **Активность:** активные клиенты уходят значительно реже.  \n",
    "- **Кредитная карта:** слабое влияние.\n"
   ]
  },
  {
   "cell_type": "markdown",
   "id": "5c139731",
   "metadata": {},
   "source": [
    "## Итог анализа\n",
    "\n",
    "1. Ушло ~20% клиентов.  \n",
    "2. В зоне риска: возраст 40–50 лет, женщины, клиенты из Германии.  \n",
    "3. Поведение важнее финансов: пассивные клиенты и те, у кого мало продуктов, уходят чаще.  \n",
    "4. Финансовые признаки играют меньшую роль.  \n",
    "\n",
    "**Рекомендации банку:**  \n",
    "- Сфокусироваться на удержании клиентов из Германии.  \n",
    "- Запустить программы лояльности для клиентов 40–50 лет.  \n",
    "- Стимулировать использование дополнительных продуктов.  \n",
    "- Активировать \"спящих\" клиентов с помощью акций и персональных предложений.\n"
   ]
  }
 ],
 "metadata": {
  "kernelspec": {
   "display_name": "practise",
   "language": "python",
   "name": "python3"
  },
  "language_info": {
   "codemirror_mode": {
    "name": "ipython",
    "version": 3
   },
   "file_extension": ".py",
   "mimetype": "text/x-python",
   "name": "python",
   "nbconvert_exporter": "python",
   "pygments_lexer": "ipython3",
   "version": "3.12.11"
  }
 },
 "nbformat": 4,
 "nbformat_minor": 5
}
